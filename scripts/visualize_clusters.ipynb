{
 "cells": [
  {
   "cell_type": "markdown",
   "metadata": {},
   "source": [
    "# prepare for semantic analysis"
   ]
  },
  {
   "cell_type": "code",
   "execution_count": 1,
   "metadata": {},
   "outputs": [],
   "source": [
    "import pandas as pd\n",
    "from pathlib import Path\n",
    "\n",
    "from asreview.data import load_data"
   ]
  },
  {
   "cell_type": "code",
   "execution_count": 2,
   "metadata": {},
   "outputs": [],
   "source": [
    "# load preprocessed file\n",
    "df = pd.read_csv(\"https://raw.githubusercontent.com/asreview-ftm-hackathon/Data/main/data/preprocessed_data.csv\")[[\"title\", \"abstract\"]]"
   ]
  },
  {
   "cell_type": "code",
   "execution_count": 3,
   "metadata": {},
   "outputs": [],
   "source": [
    "# remove \\n from abstract column\n",
    "df[\"abstract\"] = df[\"abstract\"].str.replace(\"\\n\", \" \")"
   ]
  },
  {
   "cell_type": "code",
   "execution_count": 4,
   "metadata": {},
   "outputs": [],
   "source": [
    "from nltk.tokenize import RegexpTokenizer\n",
    "from nltk.tokenize.treebank import TreebankWordDetokenizer\n",
    "tokenizer = RegexpTokenizer(r'[a-zA-Z]\\w+')\n",
    "df[\"abstract\"] = df[\"abstract\"].apply(lambda x: TreebankWordDetokenizer().detokenize(tokenizer.tokenize(x)))"
   ]
  },
  {
   "cell_type": "code",
   "execution_count": 5,
   "metadata": {},
   "outputs": [
    {
     "data": {
      "text/html": [
       "<div>\n",
       "<style scoped>\n",
       "    .dataframe tbody tr th:only-of-type {\n",
       "        vertical-align: middle;\n",
       "    }\n",
       "\n",
       "    .dataframe tbody tr th {\n",
       "        vertical-align: top;\n",
       "    }\n",
       "\n",
       "    .dataframe thead th {\n",
       "        text-align: right;\n",
       "    }\n",
       "</style>\n",
       "<table border=\"1\" class=\"dataframe\">\n",
       "  <thead>\n",
       "    <tr style=\"text-align: right;\">\n",
       "      <th></th>\n",
       "      <th>title</th>\n",
       "      <th>abstract</th>\n",
       "    </tr>\n",
       "  </thead>\n",
       "  <tbody>\n",
       "    <tr>\n",
       "      <th>0</th>\n",
       "      <td>Verzoek_regulier__facultatief_advies_uitgebr_p...</td>\n",
       "      <td>Ons briefkenmerk Geachte heer mevrouw Dn heeft...</td>\n",
       "    </tr>\n",
       "    <tr>\n",
       "      <th>1</th>\n",
       "      <td>Toezicht_ Correspondentie n.a.v. Toezicht en H...</td>\n",
       "      <td>STADSBALIE ARCHIEF GEMEENTE ASSNT Va TEM Neder...</td>\n",
       "    </tr>\n",
       "    <tr>\n",
       "      <th>2</th>\n",
       "      <td>FW  Draaiboek demonstratie NAM AZC 24 sept...</td>\n",
       "      <td>Date To Marco Out assen nl Subject FW Draaiboe...</td>\n",
       "    </tr>\n",
       "    <tr>\n",
       "      <th>3</th>\n",
       "      <td>Uitgaande mail mededeling akkoord bijdrage aan...</td>\n",
       "      <td>bijdrage gemeente Assen Pagina Van Aan energyv...</td>\n",
       "    </tr>\n",
       "    <tr>\n",
       "      <th>4</th>\n",
       "      <td>Rapportage n.a.v. vergunningen-meldingen.pdf_j...</td>\n",
       "      <td>cle Size Date Time MD5 checksum ec8b73ddddb116...</td>\n",
       "    </tr>\n",
       "    <tr>\n",
       "      <th>...</th>\n",
       "      <td>...</td>\n",
       "      <td>...</td>\n",
       "    </tr>\n",
       "    <tr>\n",
       "      <th>2504</th>\n",
       "      <td>BenW besluit BB54473 inzake deelname gem Assen...</td>\n",
       "      <td>fifi Gemeente Assen Voorstel ter besluitvormin...</td>\n",
       "    </tr>\n",
       "    <tr>\n",
       "      <th>2505</th>\n",
       "      <td>Persbericht Energy Valley_</td>\n",
       "      <td>Gemeente Assen GEMEENIE Afdeling Communicatie ...</td>\n",
       "    </tr>\n",
       "    <tr>\n",
       "      <th>2506</th>\n",
       "      <td>Melding betoging 24 september NAM</td>\n",
       "      <td>Date nitie ucefe nsic nl To po ii nl Subject M...</td>\n",
       "    </tr>\n",
       "    <tr>\n",
       "      <th>2507</th>\n",
       "      <td>Locaties in Groningen_</td>\n",
       "      <td>Centrale meldkamer NAM Assen CMK Beveiliging S...</td>\n",
       "    </tr>\n",
       "    <tr>\n",
       "      <th>2508</th>\n",
       "      <td>scannen_kleur_300dpi_58_20190509_164845.pdf  ...</td>\n",
       "      <td>Gemeente Assen STADSBALIE Reguliere bouwvergun...</td>\n",
       "    </tr>\n",
       "  </tbody>\n",
       "</table>\n",
       "<p>2509 rows × 2 columns</p>\n",
       "</div>"
      ],
      "text/plain": [
       "                                                  title  \\\n",
       "0     Verzoek_regulier__facultatief_advies_uitgebr_p...   \n",
       "1     Toezicht_ Correspondentie n.a.v. Toezicht en H...   \n",
       "2         FW  Draaiboek demonstratie NAM AZC 24 sept...   \n",
       "3     Uitgaande mail mededeling akkoord bijdrage aan...   \n",
       "4     Rapportage n.a.v. vergunningen-meldingen.pdf_j...   \n",
       "...                                                 ...   \n",
       "2504  BenW besluit BB54473 inzake deelname gem Assen...   \n",
       "2505                         Persbericht Energy Valley_   \n",
       "2506                 Melding betoging 24 september NAM    \n",
       "2507                             Locaties in Groningen_   \n",
       "2508   scannen_kleur_300dpi_58_20190509_164845.pdf  ...   \n",
       "\n",
       "                                               abstract  \n",
       "0     Ons briefkenmerk Geachte heer mevrouw Dn heeft...  \n",
       "1     STADSBALIE ARCHIEF GEMEENTE ASSNT Va TEM Neder...  \n",
       "2     Date To Marco Out assen nl Subject FW Draaiboe...  \n",
       "3     bijdrage gemeente Assen Pagina Van Aan energyv...  \n",
       "4     cle Size Date Time MD5 checksum ec8b73ddddb116...  \n",
       "...                                                 ...  \n",
       "2504  fifi Gemeente Assen Voorstel ter besluitvormin...  \n",
       "2505  Gemeente Assen GEMEENIE Afdeling Communicatie ...  \n",
       "2506  Date nitie ucefe nsic nl To po ii nl Subject M...  \n",
       "2507  Centrale meldkamer NAM Assen CMK Beveiliging S...  \n",
       "2508  Gemeente Assen STADSBALIE Reguliere bouwvergun...  \n",
       "\n",
       "[2509 rows x 2 columns]"
      ]
     },
     "execution_count": 5,
     "metadata": {},
     "output_type": "execute_result"
    }
   ],
   "source": [
    "df"
   ]
  },
  {
   "cell_type": "code",
   "execution_count": 6,
   "metadata": {},
   "outputs": [],
   "source": [
    "# save file as cleaned.csv\n",
    "df.to_csv(Path(\"..\", \"temp\", \"cleaned.csv\"), index=False)"
   ]
  },
  {
   "cell_type": "markdown",
   "metadata": {},
   "source": [
    "# perform semantic analysis"
   ]
  },
  {
   "cell_type": "code",
   "execution_count": 7,
   "metadata": {},
   "outputs": [],
   "source": [
    "from asreviewcontrib.semantic_clustering.semantic_clustering import run_clustering_steps"
   ]
  },
  {
   "cell_type": "code",
   "execution_count": 8,
   "metadata": {},
   "outputs": [],
   "source": [
    "#load cleaned.csv\n",
    "data = load_data(Path(\"..\", \"temp\", \"cleaned.csv\"))"
   ]
  },
  {
   "cell_type": "code",
   "execution_count": 9,
   "metadata": {},
   "outputs": [],
   "source": [
    "transformer = \"pdelobelle/robbert-v2-dutch-base\""
   ]
  },
  {
   "cell_type": "code",
   "execution_count": 10,
   "metadata": {},
   "outputs": [
    {
     "name": "stdout",
     "output_type": "stream",
     "text": [
      "Loading data...\n",
      "Loading tokenizer and model pdelobelle/robbert-v2-dutch-base...\n",
      "Tokenizing abstracts...\n"
     ]
    },
    {
     "name": "stderr",
     "output_type": "stream",
     "text": [
      " 40%|████      | 1014/2509 [00:07<00:14, 105.99it/s]"
     ]
    }
   ],
   "source": [
    "run_clustering_steps(\n",
    "                data,\n",
    "                Path(\"..\",\"output\", \"clustered.csv\", index=False),\n",
    "                transformer=transformer)"
   ]
  },
  {
   "cell_type": "markdown",
   "metadata": {},
   "source": [
    "# restore original abstracts"
   ]
  },
  {
   "cell_type": "code",
   "execution_count": null,
   "metadata": {},
   "outputs": [],
   "source": [
    "data = pd.read_csv(Path(\"..\",\"output\", \"clustered.csv\", index=False))\n",
    "old_abstracts = pd.read_csv(\"https://raw.githubusercontent.com/asreview-ftm-hackathon/Data/main/data/preprocessed_data.csv\")['abstract']"
   ]
  },
  {
   "cell_type": "code",
   "execution_count": null,
   "metadata": {},
   "outputs": [],
   "source": [
    "data['abstract'] = old_abstracts"
   ]
  },
  {
   "cell_type": "code",
   "execution_count": null,
   "metadata": {},
   "outputs": [],
   "source": [
    "# save data as clustered_original_abstracts.csv\n",
    "data.to_csv(Path(\"..\",\"output\", \"clustered.csv\", index=False))"
   ]
  }
 ],
 "metadata": {
  "interpreter": {
   "hash": "2df9c3801a6127f05d95d831df71584e980b881afa4e808d915bd45687e3ab86"
  },
  "kernelspec": {
   "display_name": "Python 3.9.8 64-bit",
   "language": "python",
   "name": "python3"
  },
  "language_info": {
   "codemirror_mode": {
    "name": "ipython",
    "version": 3
   },
   "file_extension": ".py",
   "mimetype": "text/x-python",
   "name": "python",
   "nbconvert_exporter": "python",
   "pygments_lexer": "ipython3",
   "version": "3.9.8"
  },
  "orig_nbformat": 4
 },
 "nbformat": 4,
 "nbformat_minor": 2
}
