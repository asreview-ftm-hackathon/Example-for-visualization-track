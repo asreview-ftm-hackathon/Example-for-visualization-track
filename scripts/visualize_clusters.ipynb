{
 "cells": [
  {
   "cell_type": "markdown",
   "metadata": {},
   "source": [
    "# prepare for semantic analysis"
   ]
  },
  {
   "cell_type": "code",
   "execution_count": 3,
   "metadata": {},
   "outputs": [],
   "source": [
    "import pandas as pd\n",
    "from asreview.data import load_data"
   ]
  },
  {
   "cell_type": "code",
   "execution_count": 4,
   "metadata": {},
   "outputs": [],
   "source": [
    "# load preprocessed_and_cleaned.xlsx\n",
    "df = pd.read_excel(\"..\\pre-processing\\preprocessed.xlsx\")"
   ]
  },
  {
   "cell_type": "code",
   "execution_count": 5,
   "metadata": {},
   "outputs": [
    {
     "data": {
      "text/html": [
       "<div>\n",
       "<style scoped>\n",
       "    .dataframe tbody tr th:only-of-type {\n",
       "        vertical-align: middle;\n",
       "    }\n",
       "\n",
       "    .dataframe tbody tr th {\n",
       "        vertical-align: top;\n",
       "    }\n",
       "\n",
       "    .dataframe thead th {\n",
       "        text-align: right;\n",
       "    }\n",
       "</style>\n",
       "<table border=\"1\" class=\"dataframe\">\n",
       "  <thead>\n",
       "    <tr style=\"text-align: right;\">\n",
       "      <th></th>\n",
       "      <th>Unnamed: 0</th>\n",
       "      <th>id</th>\n",
       "      <th>type</th>\n",
       "      <th>date</th>\n",
       "      <th>betterDate</th>\n",
       "      <th>title</th>\n",
       "      <th>abstract</th>\n",
       "    </tr>\n",
       "  </thead>\n",
       "  <tbody>\n",
       "    <tr>\n",
       "      <th>0</th>\n",
       "      <td>18</td>\n",
       "      <td>13.16</td>\n",
       "      <td>Overig</td>\n",
       "      <td>2015</td>\n",
       "      <td>NaT</td>\n",
       "      <td>Verzoek_regulier__facultatief_advies_uitgebr_p...</td>\n",
       "      <td>\\n\\n\\n\\n\\n13.16 \\n      \\n\\nOns briefkenmerk: ...</td>\n",
       "    </tr>\n",
       "    <tr>\n",
       "      <th>1</th>\n",
       "      <td>29</td>\n",
       "      <td>8.17</td>\n",
       "      <td>Correspondentie</td>\n",
       "      <td>2007-2013</td>\n",
       "      <td>NaT</td>\n",
       "      <td>Toezicht_ Correspondentie n.a.v. Toezicht en H...</td>\n",
       "      <td>\\n\\n\\n\\n\\n \\n\\n\\n\\n\\n\\n\\n\\n\\n\\n\\n\\n\\n\\n\\n\\n\\n\\...</td>\n",
       "    </tr>\n",
       "    <tr>\n",
       "      <th>2</th>\n",
       "      <td>31</td>\n",
       "      <td>22.11</td>\n",
       "      <td>Mail</td>\n",
       "      <td>??</td>\n",
       "      <td>NaT</td>\n",
       "      <td>FW  Draaiboek demonstratie NAM AZC 24 sept...</td>\n",
       "      <td>\\n\\n\\nDate : 1-1-0001 00:00:00 \\nTo : \"Marco O...</td>\n",
       "    </tr>\n",
       "    <tr>\n",
       "      <th>3</th>\n",
       "      <td>32</td>\n",
       "      <td>32.3</td>\n",
       "      <td>Correspondentie</td>\n",
       "      <td>NaN</td>\n",
       "      <td>NaT</td>\n",
       "      <td>Uitgaande mail mededeling akkoord bijdrage aan...</td>\n",
       "      <td>\\n\\n\\n\\n\\n| bijdrage gemeente Assen Pagina 1 \\...</td>\n",
       "    </tr>\n",
       "    <tr>\n",
       "      <th>4</th>\n",
       "      <td>35</td>\n",
       "      <td>8.10</td>\n",
       "      <td>Vergunning</td>\n",
       "      <td>1997</td>\n",
       "      <td>NaT</td>\n",
       "      <td>Rapportage n.a.v. vergunningen-meldingen.pdf_j...</td>\n",
       "      <td>\\n\\n\\n\\n\\n  \\ncle) \\n   \\n\\n\\n\\n\\n\\n\\n\\n\\n\\n\\n...</td>\n",
       "    </tr>\n",
       "    <tr>\n",
       "      <th>...</th>\n",
       "      <td>...</td>\n",
       "      <td>...</td>\n",
       "      <td>...</td>\n",
       "      <td>...</td>\n",
       "      <td>...</td>\n",
       "      <td>...</td>\n",
       "      <td>...</td>\n",
       "    </tr>\n",
       "    <tr>\n",
       "      <th>2504</th>\n",
       "      <td>2537</td>\n",
       "      <td>32.1</td>\n",
       "      <td>Bestuurlijk besluit</td>\n",
       "      <td>2005-04-26 00:00:00</td>\n",
       "      <td>NaT</td>\n",
       "      <td>BenW besluit BB54473 inzake deelname gem Assen...</td>\n",
       "      <td>\\n\\n\\nÀ \\n\\nfifi Gemeente Assen \\n\\n\\n\\n    \\n...</td>\n",
       "    </tr>\n",
       "    <tr>\n",
       "      <th>2505</th>\n",
       "      <td>2538</td>\n",
       "      <td>32.5</td>\n",
       "      <td>Document</td>\n",
       "      <td>2005-04-01 00:00:00</td>\n",
       "      <td>NaT</td>\n",
       "      <td>Persbericht Energy Valley_</td>\n",
       "      <td>\\n\\n\\n\\n\\n32.5 \\n      \\n\\nÓ Gemeente Assen \\n...</td>\n",
       "    </tr>\n",
       "    <tr>\n",
       "      <th>2506</th>\n",
       "      <td>2539</td>\n",
       "      <td>3.35</td>\n",
       "      <td>Mail</td>\n",
       "      <td>2004-12-13 00:00:00</td>\n",
       "      <td>2016-09-09 10:47:53</td>\n",
       "      <td>Melding betoging 24 september NAM</td>\n",
       "      <td>\\n\\n\\n\\n\\n\\n\\nDate : 9-9-2016 10:47:53 \\nF B n...</td>\n",
       "    </tr>\n",
       "    <tr>\n",
       "      <th>2507</th>\n",
       "      <td>2540</td>\n",
       "      <td>3.40</td>\n",
       "      <td>Document</td>\n",
       "      <td>2004-12-13 00:00:00</td>\n",
       "      <td>NaT</td>\n",
       "      <td>Locaties in Groningen_</td>\n",
       "      <td>\\n\\n\\nCentrale meldkamer NAM Assen (CMK) \\n\\nB...</td>\n",
       "    </tr>\n",
       "    <tr>\n",
       "      <th>2508</th>\n",
       "      <td>2541</td>\n",
       "      <td>13.11</td>\n",
       "      <td>Vergunning</td>\n",
       "      <td>1905-07-01 00:00:00</td>\n",
       "      <td>NaT</td>\n",
       "      <td>scannen_kleur_300dpi_58_20190509_164845.pdf  ...</td>\n",
       "      <td>\\n\\n\\nGemeente Assen \\n\\n\\n\\n\\n\\ne STADSBALIE ...</td>\n",
       "    </tr>\n",
       "  </tbody>\n",
       "</table>\n",
       "<p>2509 rows × 7 columns</p>\n",
       "</div>"
      ],
      "text/plain": [
       "      Unnamed: 0     id                 type                 date  \\\n",
       "0             18  13.16               Overig                 2015   \n",
       "1             29   8.17      Correspondentie            2007-2013   \n",
       "2             31  22.11                 Mail                   ??   \n",
       "3             32   32.3      Correspondentie                  NaN   \n",
       "4             35   8.10           Vergunning                 1997   \n",
       "...          ...    ...                  ...                  ...   \n",
       "2504        2537   32.1  Bestuurlijk besluit  2005-04-26 00:00:00   \n",
       "2505        2538   32.5             Document  2005-04-01 00:00:00   \n",
       "2506        2539   3.35                 Mail  2004-12-13 00:00:00   \n",
       "2507        2540   3.40             Document  2004-12-13 00:00:00   \n",
       "2508        2541  13.11           Vergunning  1905-07-01 00:00:00   \n",
       "\n",
       "              betterDate                                              title  \\\n",
       "0                    NaT  Verzoek_regulier__facultatief_advies_uitgebr_p...   \n",
       "1                    NaT  Toezicht_ Correspondentie n.a.v. Toezicht en H...   \n",
       "2                    NaT      FW  Draaiboek demonstratie NAM AZC 24 sept...   \n",
       "3                    NaT  Uitgaande mail mededeling akkoord bijdrage aan...   \n",
       "4                    NaT  Rapportage n.a.v. vergunningen-meldingen.pdf_j...   \n",
       "...                  ...                                                ...   \n",
       "2504                 NaT  BenW besluit BB54473 inzake deelname gem Assen...   \n",
       "2505                 NaT                         Persbericht Energy Valley_   \n",
       "2506 2016-09-09 10:47:53                 Melding betoging 24 september NAM    \n",
       "2507                 NaT                             Locaties in Groningen_   \n",
       "2508                 NaT   scannen_kleur_300dpi_58_20190509_164845.pdf  ...   \n",
       "\n",
       "                                               abstract  \n",
       "0     \\n\\n\\n\\n\\n13.16 \\n      \\n\\nOns briefkenmerk: ...  \n",
       "1     \\n\\n\\n\\n\\n \\n\\n\\n\\n\\n\\n\\n\\n\\n\\n\\n\\n\\n\\n\\n\\n\\n\\...  \n",
       "2     \\n\\n\\nDate : 1-1-0001 00:00:00 \\nTo : \"Marco O...  \n",
       "3     \\n\\n\\n\\n\\n| bijdrage gemeente Assen Pagina 1 \\...  \n",
       "4     \\n\\n\\n\\n\\n  \\ncle) \\n   \\n\\n\\n\\n\\n\\n\\n\\n\\n\\n\\n...  \n",
       "...                                                 ...  \n",
       "2504  \\n\\n\\nÀ \\n\\nfifi Gemeente Assen \\n\\n\\n\\n    \\n...  \n",
       "2505  \\n\\n\\n\\n\\n32.5 \\n      \\n\\nÓ Gemeente Assen \\n...  \n",
       "2506  \\n\\n\\n\\n\\n\\n\\nDate : 9-9-2016 10:47:53 \\nF B n...  \n",
       "2507  \\n\\n\\nCentrale meldkamer NAM Assen (CMK) \\n\\nB...  \n",
       "2508  \\n\\n\\nGemeente Assen \\n\\n\\n\\n\\n\\ne STADSBALIE ...  \n",
       "\n",
       "[2509 rows x 7 columns]"
      ]
     },
     "execution_count": 5,
     "metadata": {},
     "output_type": "execute_result"
    }
   ],
   "source": [
    "df"
   ]
  },
  {
   "cell_type": "code",
   "execution_count": 6,
   "metadata": {},
   "outputs": [],
   "source": [
    "# remove column record_id\n",
    "df.drop(columns=[\"id\"], inplace=True)\n",
    "\n",
    "# remove column 'Unnamed: 0'\n",
    "df.drop(columns=[\"Unnamed: 0\"], inplace=True)\n",
    "\n",
    "# rename column type to keywords\n",
    "df.rename(columns={\"type\": \"keywords\"}, inplace=True)\n"
   ]
  },
  {
   "cell_type": "code",
   "execution_count": 7,
   "metadata": {},
   "outputs": [],
   "source": [
    "# remove \\n from abstract column\n",
    "df[\"abstract\"] = df[\"abstract\"].str.replace(\"\\n\", \" \")"
   ]
  },
  {
   "cell_type": "code",
   "execution_count": 8,
   "metadata": {},
   "outputs": [],
   "source": [
    "from nltk.tokenize import RegexpTokenizer\n",
    "from nltk.tokenize.treebank import TreebankWordDetokenizer\n",
    "tokenizer = RegexpTokenizer(r'[a-zA-Z]\\w+')\n",
    "df[\"abstract\"] = df[\"abstract\"].apply(lambda x: TreebankWordDetokenizer().detokenize(tokenizer.tokenize(x)))"
   ]
  },
  {
   "cell_type": "code",
   "execution_count": 9,
   "metadata": {},
   "outputs": [
    {
     "data": {
      "text/html": [
       "<div>\n",
       "<style scoped>\n",
       "    .dataframe tbody tr th:only-of-type {\n",
       "        vertical-align: middle;\n",
       "    }\n",
       "\n",
       "    .dataframe tbody tr th {\n",
       "        vertical-align: top;\n",
       "    }\n",
       "\n",
       "    .dataframe thead th {\n",
       "        text-align: right;\n",
       "    }\n",
       "</style>\n",
       "<table border=\"1\" class=\"dataframe\">\n",
       "  <thead>\n",
       "    <tr style=\"text-align: right;\">\n",
       "      <th></th>\n",
       "      <th>keywords</th>\n",
       "      <th>date</th>\n",
       "      <th>betterDate</th>\n",
       "      <th>title</th>\n",
       "      <th>abstract</th>\n",
       "    </tr>\n",
       "  </thead>\n",
       "  <tbody>\n",
       "    <tr>\n",
       "      <th>0</th>\n",
       "      <td>Overig</td>\n",
       "      <td>2015</td>\n",
       "      <td>NaT</td>\n",
       "      <td>Verzoek_regulier__facultatief_advies_uitgebr_p...</td>\n",
       "      <td>Ons briefkenmerk Geachte heer mevrouw Dn heeft...</td>\n",
       "    </tr>\n",
       "    <tr>\n",
       "      <th>1</th>\n",
       "      <td>Correspondentie</td>\n",
       "      <td>2007-2013</td>\n",
       "      <td>NaT</td>\n",
       "      <td>Toezicht_ Correspondentie n.a.v. Toezicht en H...</td>\n",
       "      <td>STADSBALIE ARCHIEF GEMEENTE ASSNT Va TEM Neder...</td>\n",
       "    </tr>\n",
       "    <tr>\n",
       "      <th>2</th>\n",
       "      <td>Mail</td>\n",
       "      <td>??</td>\n",
       "      <td>NaT</td>\n",
       "      <td>FW  Draaiboek demonstratie NAM AZC 24 sept...</td>\n",
       "      <td>Date To Marco Out assen nl Subject FW Draaiboe...</td>\n",
       "    </tr>\n",
       "    <tr>\n",
       "      <th>3</th>\n",
       "      <td>Correspondentie</td>\n",
       "      <td>NaN</td>\n",
       "      <td>NaT</td>\n",
       "      <td>Uitgaande mail mededeling akkoord bijdrage aan...</td>\n",
       "      <td>bijdrage gemeente Assen Pagina Van Aan energyv...</td>\n",
       "    </tr>\n",
       "    <tr>\n",
       "      <th>4</th>\n",
       "      <td>Vergunning</td>\n",
       "      <td>1997</td>\n",
       "      <td>NaT</td>\n",
       "      <td>Rapportage n.a.v. vergunningen-meldingen.pdf_j...</td>\n",
       "      <td>cle Size Date Time MD5 checksum ec8b73ddddb116...</td>\n",
       "    </tr>\n",
       "    <tr>\n",
       "      <th>...</th>\n",
       "      <td>...</td>\n",
       "      <td>...</td>\n",
       "      <td>...</td>\n",
       "      <td>...</td>\n",
       "      <td>...</td>\n",
       "    </tr>\n",
       "    <tr>\n",
       "      <th>2504</th>\n",
       "      <td>Bestuurlijk besluit</td>\n",
       "      <td>2005-04-26 00:00:00</td>\n",
       "      <td>NaT</td>\n",
       "      <td>BenW besluit BB54473 inzake deelname gem Assen...</td>\n",
       "      <td>fifi Gemeente Assen Voorstel ter besluitvormin...</td>\n",
       "    </tr>\n",
       "    <tr>\n",
       "      <th>2505</th>\n",
       "      <td>Document</td>\n",
       "      <td>2005-04-01 00:00:00</td>\n",
       "      <td>NaT</td>\n",
       "      <td>Persbericht Energy Valley_</td>\n",
       "      <td>Gemeente Assen GEMEENIE Afdeling Communicatie ...</td>\n",
       "    </tr>\n",
       "    <tr>\n",
       "      <th>2506</th>\n",
       "      <td>Mail</td>\n",
       "      <td>2004-12-13 00:00:00</td>\n",
       "      <td>2016-09-09 10:47:53</td>\n",
       "      <td>Melding betoging 24 september NAM</td>\n",
       "      <td>Date nitie ucefe nsic nl To po ii nl Subject M...</td>\n",
       "    </tr>\n",
       "    <tr>\n",
       "      <th>2507</th>\n",
       "      <td>Document</td>\n",
       "      <td>2004-12-13 00:00:00</td>\n",
       "      <td>NaT</td>\n",
       "      <td>Locaties in Groningen_</td>\n",
       "      <td>Centrale meldkamer NAM Assen CMK Beveiliging S...</td>\n",
       "    </tr>\n",
       "    <tr>\n",
       "      <th>2508</th>\n",
       "      <td>Vergunning</td>\n",
       "      <td>1905-07-01 00:00:00</td>\n",
       "      <td>NaT</td>\n",
       "      <td>scannen_kleur_300dpi_58_20190509_164845.pdf  ...</td>\n",
       "      <td>Gemeente Assen STADSBALIE Reguliere bouwvergun...</td>\n",
       "    </tr>\n",
       "  </tbody>\n",
       "</table>\n",
       "<p>2509 rows × 5 columns</p>\n",
       "</div>"
      ],
      "text/plain": [
       "                 keywords                 date          betterDate  \\\n",
       "0                  Overig                 2015                 NaT   \n",
       "1         Correspondentie            2007-2013                 NaT   \n",
       "2                    Mail                   ??                 NaT   \n",
       "3         Correspondentie                  NaN                 NaT   \n",
       "4              Vergunning                 1997                 NaT   \n",
       "...                   ...                  ...                 ...   \n",
       "2504  Bestuurlijk besluit  2005-04-26 00:00:00                 NaT   \n",
       "2505             Document  2005-04-01 00:00:00                 NaT   \n",
       "2506                 Mail  2004-12-13 00:00:00 2016-09-09 10:47:53   \n",
       "2507             Document  2004-12-13 00:00:00                 NaT   \n",
       "2508           Vergunning  1905-07-01 00:00:00                 NaT   \n",
       "\n",
       "                                                  title  \\\n",
       "0     Verzoek_regulier__facultatief_advies_uitgebr_p...   \n",
       "1     Toezicht_ Correspondentie n.a.v. Toezicht en H...   \n",
       "2         FW  Draaiboek demonstratie NAM AZC 24 sept...   \n",
       "3     Uitgaande mail mededeling akkoord bijdrage aan...   \n",
       "4     Rapportage n.a.v. vergunningen-meldingen.pdf_j...   \n",
       "...                                                 ...   \n",
       "2504  BenW besluit BB54473 inzake deelname gem Assen...   \n",
       "2505                         Persbericht Energy Valley_   \n",
       "2506                 Melding betoging 24 september NAM    \n",
       "2507                             Locaties in Groningen_   \n",
       "2508   scannen_kleur_300dpi_58_20190509_164845.pdf  ...   \n",
       "\n",
       "                                               abstract  \n",
       "0     Ons briefkenmerk Geachte heer mevrouw Dn heeft...  \n",
       "1     STADSBALIE ARCHIEF GEMEENTE ASSNT Va TEM Neder...  \n",
       "2     Date To Marco Out assen nl Subject FW Draaiboe...  \n",
       "3     bijdrage gemeente Assen Pagina Van Aan energyv...  \n",
       "4     cle Size Date Time MD5 checksum ec8b73ddddb116...  \n",
       "...                                                 ...  \n",
       "2504  fifi Gemeente Assen Voorstel ter besluitvormin...  \n",
       "2505  Gemeente Assen GEMEENIE Afdeling Communicatie ...  \n",
       "2506  Date nitie ucefe nsic nl To po ii nl Subject M...  \n",
       "2507  Centrale meldkamer NAM Assen CMK Beveiliging S...  \n",
       "2508  Gemeente Assen STADSBALIE Reguliere bouwvergun...  \n",
       "\n",
       "[2509 rows x 5 columns]"
      ]
     },
     "execution_count": 9,
     "metadata": {},
     "output_type": "execute_result"
    }
   ],
   "source": [
    "df"
   ]
  },
  {
   "cell_type": "code",
   "execution_count": 10,
   "metadata": {},
   "outputs": [],
   "source": [
    "# save file as cleaned.csv\n",
    "df.to_csv(\"cleaned.csv\", index=False)"
   ]
  },
  {
   "cell_type": "markdown",
   "metadata": {},
   "source": [
    "# perform semantic analysis"
   ]
  },
  {
   "cell_type": "code",
   "execution_count": 11,
   "metadata": {},
   "outputs": [],
   "source": [
    "from asreviewcontrib.semantic_clustering.semantic_clustering import run_clustering_steps"
   ]
  },
  {
   "cell_type": "code",
   "execution_count": 12,
   "metadata": {},
   "outputs": [],
   "source": [
    "#load cleaned.csv\n",
    "data = load_data('cleaned.csv')"
   ]
  },
  {
   "cell_type": "code",
   "execution_count": 13,
   "metadata": {},
   "outputs": [],
   "source": [
    "transformer = \"pdelobelle/robbert-v2-dutch-base\""
   ]
  },
  {
   "cell_type": "code",
   "execution_count": 14,
   "metadata": {},
   "outputs": [
    {
     "name": "stdout",
     "output_type": "stream",
     "text": [
      "Loading data...\n",
      "Loading tokenizer and model pdelobelle/robbert-v2-dutch-base...\n"
     ]
    },
    {
     "name": "stderr",
     "output_type": "stream",
     "text": [
      "Downloading: 100%|██████████| 446M/446M [00:40<00:00, 11.6MB/s]\n"
     ]
    },
    {
     "name": "stdout",
     "output_type": "stream",
     "text": [
      "Tokenizing abstracts...\n"
     ]
    },
    {
     "name": "stderr",
     "output_type": "stream",
     "text": [
      "100%|██████████| 2509/2509 [00:07<00:00, 331.69it/s]\n"
     ]
    },
    {
     "name": "stdout",
     "output_type": "stream",
     "text": [
      "Generating embeddings...\n"
     ]
    },
    {
     "name": "stderr",
     "output_type": "stream",
     "text": [
      "100%|██████████| 2509/2509 [33:50<00:00,  1.24it/s]\n"
     ]
    },
    {
     "name": "stdout",
     "output_type": "stream",
     "text": [
      "Running PCA...\n",
      "Running t-SNE...\n"
     ]
    },
    {
     "name": "stderr",
     "output_type": "stream",
     "text": [
      "C:\\Users\\5927226\\AppData\\Local\\Programs\\Python\\Python39\\lib\\site-packages\\sklearn\\manifold\\_t_sne.py:780: FutureWarning: The default initialization in TSNE will change from 'random' to 'pca' in 1.2.\n",
      "  warnings.warn(\n"
     ]
    },
    {
     "name": "stdout",
     "output_type": "stream",
     "text": [
      "Calculating optimal number of clusters...\n",
      "Optimal number of clusters:  6\n",
      "Running k-means...\n",
      "Creating file clustered.csv...\n"
     ]
    }
   ],
   "source": [
    "run_clustering_steps(\n",
    "                data,\n",
    "                'clustered.csv',\n",
    "                transformer=transformer)"
   ]
  },
  {
   "cell_type": "markdown",
   "metadata": {},
   "source": [
    "# restore original abstracts"
   ]
  },
  {
   "cell_type": "code",
   "execution_count": 16,
   "metadata": {},
   "outputs": [],
   "source": [
    "data = pd.read_csv('clustered.csv')\n",
    "old_abstracts = pd.read_excel(\"..\\pre-processing\\preprocessed.xlsx\")['abstract']"
   ]
  },
  {
   "cell_type": "code",
   "execution_count": 17,
   "metadata": {},
   "outputs": [],
   "source": [
    "data['abstract'] = old_abstracts"
   ]
  },
  {
   "cell_type": "code",
   "execution_count": 26,
   "metadata": {},
   "outputs": [],
   "source": [
    "# save data as clustered_original_abstracts.csv\n",
    "data.to_csv('clustered.csv', index=False)"
   ]
  }
 ],
 "metadata": {
  "interpreter": {
   "hash": "2df9c3801a6127f05d95d831df71584e980b881afa4e808d915bd45687e3ab86"
  },
  "kernelspec": {
   "display_name": "Python 3.9.8 64-bit",
   "language": "python",
   "name": "python3"
  },
  "language_info": {
   "codemirror_mode": {
    "name": "ipython",
    "version": 3
   },
   "file_extension": ".py",
   "mimetype": "text/x-python",
   "name": "python",
   "nbconvert_exporter": "python",
   "pygments_lexer": "ipython3",
   "version": "3.9.8"
  },
  "orig_nbformat": 4
 },
 "nbformat": 4,
 "nbformat_minor": 2
}
